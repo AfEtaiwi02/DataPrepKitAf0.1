{
 "cells": [
  {
   "cell_type": "code",
   "execution_count": 21,
   "id": "223e4bb0-8b00-47cc-b7b6-0bac55b7217f",
   "metadata": {},
   "outputs": [
    {
     "name": "stdout",
     "output_type": "stream",
     "text": [
      "   A  B\n",
      "0  8  6\n"
     ]
    }
   ],
   "source": [
    "from DataPrepKitAF.DataPrep import * #to import all functions in the package\n",
    "\n",
    "csvDataFrame = read_from_csv(\"C:\\\\Users\\\\Admin\\\\Desktop\\\\D1.csv\") #to read from csv file to dataframe\n",
    "ExcelDataFrame = read_from_excel(\"C:\\\\Users\\\\Admin\\\\Desktop\\\\D1.xlsx\") #to read from excel file to dataframe\n",
    "JsonDataFrame = read_from_json(\"C:\\\\Users\\\\Admin\\\\Desktop\\\\D1.json\") #to read from json file to dataframe\n",
    "\n",
    "Mean = get_mean(csvDataFrame)# to get the mean of all columns\n",
    "Mode = get_mode(ExcelDataFrame)#to get the mode in all columns\n",
    "Median = get_median(csvDataFrame)\n",
    "Max = get_max(csvDataFrame) #to get maximum value in dataframe\n",
    "Min = get_min(csvDataFrame)#to get minimum value in dataframe\n",
    "SD = get_standard_d(csvDataFrame) #to get standard deviation\n",
    "\n",
    "RN = remove_null(csvDataFrame) #removes the null value from the column\n",
    "IN = impute_null(csvDataFrame)#to impute the empty field by putting the mean of the column instead of null\n",
    "\n"
   ]
  },
  {
   "cell_type": "code",
   "execution_count": null,
   "id": "fbdedb8d-f8f3-48b3-9973-a323b367ec9b",
   "metadata": {},
   "outputs": [],
   "source": []
  }
 ],
 "metadata": {
  "kernelspec": {
   "display_name": "Python 3 (ipykernel)",
   "language": "python",
   "name": "python3"
  },
  "language_info": {
   "codemirror_mode": {
    "name": "ipython",
    "version": 3
   },
   "file_extension": ".py",
   "mimetype": "text/x-python",
   "name": "python",
   "nbconvert_exporter": "python",
   "pygments_lexer": "ipython3",
   "version": "3.11.5"
  }
 },
 "nbformat": 4,
 "nbformat_minor": 5
}
